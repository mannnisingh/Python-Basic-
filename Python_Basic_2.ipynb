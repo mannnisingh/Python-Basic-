{
  "nbformat": 4,
  "nbformat_minor": 0,
  "metadata": {
    "colab": {
      "provenance": []
    },
    "kernelspec": {
      "name": "python3",
      "display_name": "Python 3"
    },
    "language_info": {
      "name": "python"
    }
  },
  "cells": [
    {
      "cell_type": "markdown",
      "source": [
        "Q.1. Create two int type variables, apply addition, subtraction, division and multiplications\n",
        "and store the results in variables. Then print the data in the following format by calling the\n",
        "variables:\n",
        "\n",
        "\n",
        "First variable is __ & second variable is __.\n",
        "\n",
        "Addition: __ + __ = __\n",
        "\n",
        "Subtraction: __ - __ = __\n",
        "\n",
        "Multiplication: __ * __ = __\n",
        "\n",
        "Division: __ / __ = __\n",
        "\n",
        "Ans.Here's a Python code snippet that accomplishes what you've described:\n",
        "\n",
        "```python\n",
        "# Create two int type variables\n",
        "first_variable = 10\n",
        "second_variable = 5\n",
        "\n",
        "# Perform arithmetic operations\n",
        "addition_result = first_variable + second_variable\n",
        "subtraction_result = first_variable - second_variable\n",
        "multiplication_result = first_variable * second_variable\n",
        "division_result = first_variable / second_variable\n",
        "\n",
        "# Print the results in the specified format\n",
        "print(\"First variable is\", first_variable, \"& second variable is\", second_variable)\n",
        "print(\"Addition:\", first_variable, \"+\", second_variable, \"=\", addition_result)\n",
        "print(\"Subtraction:\", first_variable, \"-\", second_variable, \"=\", subtraction_result)\n",
        "print(\"Multiplication:\", first_variable, \"*\", second_variable, \"=\", multiplication_result)\n",
        "print(\"Division:\", first_variable, \"/\", second_variable, \"=\", division_result)\n",
        "```\n",
        "\n",
        "This code will output is:\n",
        "\n",
        "```\n",
        "First variable is 10 & second variable is 5\n",
        "Addition: 10 + 5 = 15\n",
        "Subtraction: 10 - 5 = 5\n",
        "Multiplication: 10 * 5 = 50\n",
        "Division: 10 / 5 = 2.0\n",
        "```\n"
      ],
      "metadata": {
        "id": "cQChjdw-VbZQ"
      }
    },
    {
      "cell_type": "markdown",
      "source": [
        "Q.2. What is the difference between the following operators:\n",
        "\n",
        "(i) ‘/’ & ‘//’\n",
        "\n",
        "(ii) ‘**’ & ‘^’\n",
        "\n",
        "Ans.The operators you mentioned have different functionalities:\n",
        "\n",
        "(i) `/` and `//`:\n",
        "\n",
        "- `/` is the division operator in Python. It performs floating-point division, meaning it always returns a floating-point result, even if both operands are integers.\n",
        "- `//` is the floor division operator in Python. It performs integer division, meaning it returns the integer part of the quotient without considering any remainder.\n",
        "\n",
        "For example:\n",
        "```\n",
        "7 / 2 = 3.5\n",
        "7 // 2 = 3\n",
        "```\n",
        "\n",
        "(ii) `**` and `^`:\n",
        "\n",
        "- `**` is the exponentiation operator in Python. It raises the left operand to the power of the right operand.\n",
        "- `^` is the bitwise XOR (exclusive OR) operator in Python. It performs bitwise XOR operation on the binary representations of the operands.\n",
        "\n",
        "For example:\n",
        "```\n",
        "2 ** 3 = 8\n",
        "2 ^ 3 = 1  # In binary: 10 ^ 11 = 01 (binary representation)\n",
        "```\n",
        "\n",
        "So, the key differences are in the operations performed by the operators. `/` and `**` are related to arithmetic operations, while `//` and `^` are related to integer division and bitwise XOR operation, respectively."
      ],
      "metadata": {
        "id": "iZ5uvZDHVtxj"
      }
    },
    {
      "cell_type": "markdown",
      "source": [
        "Q.3. List the logical operators.\n",
        "\n",
        "Ans.Logical operators in Python are used to perform logical operations on boolean values (True or False). The logical operators in Python are:\n",
        "\n",
        "1. `and`: Returns True if both operands are True.\n",
        "2. `or`: Returns True if at least one of the operands is True.\n",
        "3. `not`: Returns the opposite boolean value of the operand. If the operand is True, `not` returns False; if the operand is False, `not` returns True.\n",
        "\n",
        "Here's a quick summary of how each logical operator works:\n",
        "\n",
        "- `True and True` evaluates to `True`.\n",
        "- `True and False` evaluates to `False`.\n",
        "- `False and True` evaluates to `False`.\n",
        "- `False and False` evaluates to `False`.\n",
        "\n",
        "- `True or True` evaluates to `True`.\n",
        "- `True or False` evaluates to `True`.\n",
        "- `False or True` evaluates to `True`.\n",
        "- `False or False` evaluates to `False`.\n",
        "\n",
        "- `not True` evaluates to `False`.\n",
        "- `not False` evaluates to `True`."
      ],
      "metadata": {
        "id": "upONQHoTV1gz"
      }
    },
    {
      "cell_type": "markdown",
      "source": [
        "Q.4. Explain right shift operator and left shift operator with examples.\n",
        "\n",
        "Ans.In Python, the right shift (`>>`) and left shift (`<<`) operators are used to shift the binary representation of a number to the right or left by a specified number of positions.\n",
        "\n",
        "1. **Right Shift (`>>`):**\n",
        "   The right shift operator shifts the bits of a number to the right by a specified number of positions. When you shift bits to the right, the most significant bit (the leftmost bit) is filled with the previous value of the most significant bit. This operation is equivalent to integer division by powers of 2.\n",
        "\n",
        "   Example:\n",
        "   ```python\n",
        "   num = 8  # Binary representation: 1000\n",
        "   shifted_num = num >> 2  # Shift right by 2 positions\n",
        "   print(shifted_num)  # Output: 2\n",
        "   ```\n",
        "   Explanation:\n",
        "   - `num` in binary is `1000`.\n",
        "   - Shifting `num` right by 2 positions gives `10`, which is `2` in decimal.\n",
        "\n",
        "2. **Left Shift (`<<`):**\n",
        "   The left shift operator shifts the bits of a number to the left by a specified number of positions. When you shift bits to the left, the least significant bit (the rightmost bit) is filled with zero. This operation is equivalent to multiplication by powers of 2.\n",
        "\n",
        "   Example:\n",
        "   ```python\n",
        "   num = 2  # Binary representation: 10\n",
        "   shifted_num = num << 2  # Shift left by 2 positions\n",
        "   print(shifted_num)  # Output: 8\n",
        "   ```\n",
        "   Explanation:\n",
        "   - `num` in binary is `10`.\n",
        "   - Shifting `num` left by 2 positions gives `1000`, which is `8` in decimal.\n",
        "\n",
        "These operators are commonly used in low-level programming or in situations where bitwise manipulation of data is required, such as in cryptography, encoding, and decoding algorithms, or optimizing certain arithmetic operations."
      ],
      "metadata": {
        "id": "vaKidNBqV9BO"
      }
    },
    {
      "cell_type": "markdown",
      "source": [
        "Q.5. Create a list containing int type data of length 15. Then write a code to check if 10 is\n",
        "present in the list or not.\n",
        "\n",
        "Ans.Sure, here's a Python code snippet that creates a list containing integer data of length 15 and then checks if the number 10 is present in the list:\n",
        "\n",
        "```python\n",
        "# Create a list containing int type data of length 15\n",
        "my_list = [1, 2, 3, 4, 5, 6, 7, 8, 9, 10, 11, 12, 13, 14, 15]\n",
        "\n",
        "# Check if 10 is present in the list\n",
        "if 10 in my_list:\n",
        "    print(\"10 is present in the list.\")\n",
        "else:\n",
        "    print(\"10 is not present in the list.\")\n",
        "```\n",
        "\n",
        "This code first creates a list `my_list` containing integers from 1 to 15. Then, it checks if the number 10 is present in the list using the `in` operator. If 10 is present, it prints a message indicating that it is present; otherwise, it prints a message indicating that it is not present."
      ],
      "metadata": {
        "id": "HQhThoKOWHBX"
      }
    }
  ]
}